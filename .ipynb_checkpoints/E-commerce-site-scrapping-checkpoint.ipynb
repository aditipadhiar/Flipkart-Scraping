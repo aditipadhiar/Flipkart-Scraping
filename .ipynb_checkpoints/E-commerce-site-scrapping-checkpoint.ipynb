{
 "cells": [
  {
   "cell_type": "markdown",
   "id": "e8a30c8e",
   "metadata": {},
   "source": [
    "# Flipkart Scrapping"
   ]
  },
  {
   "cell_type": "markdown",
   "id": "f8517fcd",
   "metadata": {},
   "source": [
    "### Checking URL Accessibility"
   ]
  },
  {
   "cell_type": "code",
   "execution_count": 4,
   "id": "fddc708e",
   "metadata": {},
   "outputs": [
    {
     "name": "stdout",
     "output_type": "stream",
     "text": [
      "Flipkart page is accessible for scraping!\n"
     ]
    }
   ],
   "source": [
    "import requests\n",
    "from bs4 import BeautifulSoup\n",
    "\n",
    "def check_amazon_page_access(url):\n",
    "    try:\n",
    "        response = requests.get(url)\n",
    "        if response.status_code == 200:\n",
    "            soup = BeautifulSoup(response.content, 'html.parser')\n",
    "            # You can further analyze the page structure here to check if it's suitable for scraping\n",
    "            return True, soup\n",
    "        else:\n",
    "            return False, None\n",
    "    except Exception as e:\n",
    "        print(\"Error occurred:\", e)\n",
    "        return False, None\n",
    "\n",
    "# Example usage:\n",
    "amazon_url = \"https://www.flipkart.com/search?q={query}\"\n",
    "is_accessible, page_soup = check_amazon_page_access(amazon_url)\n",
    "\n",
    "if is_accessible:\n",
    "    print(\"Flipkart page is accessible for scraping!\")\n",
    "    # You can further process the page_soup object to extract desired information\n",
    "else:\n",
    "    print(\"Flipkart page is not accessible for scraping.\")\n"
   ]
  },
  {
   "cell_type": "markdown",
   "id": "59ff40ca",
   "metadata": {},
   "source": [
    "### Scrapping Flipkart Data (Product name, Product rating, Product price)"
   ]
  },
  {
   "cell_type": "code",
   "execution_count": 25,
   "id": "3d672801",
   "metadata": {},
   "outputs": [],
   "source": [
    "# Set display options to show all rows and columns\n",
    "pd.set_option('display.max_rows', None)\n",
    "pd.set_option('display.max_columns', None)"
   ]
  },
  {
   "cell_type": "markdown",
   "id": "89846d96",
   "metadata": {},
   "source": [
    "#### Import Libraries"
   ]
  },
  {
   "cell_type": "code",
   "execution_count": 53,
   "id": "692ef59a",
   "metadata": {},
   "outputs": [],
   "source": [
    "import requests\n",
    "from bs4 import BeautifulSoup\n",
    "import pandas as pd\n",
    "import time"
   ]
  },
  {
   "cell_type": "markdown",
   "id": "6dba5042",
   "metadata": {},
   "source": [
    "#### Custom Scrapping function (Also add the functionality of redirecting to the next page and Error handling)"
   ]
  },
  {
   "cell_type": "code",
   "execution_count": 54,
   "id": "71fe451c",
   "metadata": {},
   "outputs": [],
   "source": [
    "def scrape_flipkart_search(query):\n",
    "    base_url = f\"https://www.flipkart.com/search?q={query}\"\n",
    "    try:\n",
    "        all_product_info = []\n",
    "        page_number = 1\n",
    "        max_retries = 3  # Maximum number of retries\n",
    "        retries = 0\n",
    "        while True:\n",
    "            url = base_url + f'&page={page_number}'\n",
    "            response = requests.get(url)\n",
    "            \n",
    "            # Retry if server error occurs\n",
    "            if response.status_code == 500 and retries < max_retries:\n",
    "                retries += 1\n",
    "                print(f\"Retrying request for page {page_number}...\")\n",
    "                time.sleep(2)  # Wait for a few seconds before retrying\n",
    "                continue\n",
    "            \n",
    "            response.raise_for_status()  # Raise an error for bad responses (4xx or 5xx)\n",
    "            soup = BeautifulSoup(response.content, 'html.parser')\n",
    "            product_info = []\n",
    "            for product in soup.find_all('div', class_='_1AtVbE'):\n",
    "                name_tag = product.find('div', class_='_4rR01T')\n",
    "                price_tag = product.find('div', class_='_30jeq3')\n",
    "                rating_tag = product.find('div', class_='_3LWZlK')\n",
    "                image_tag = product.find('img', class_='_396cs4')\n",
    "                \n",
    "                # Check if all required tags are found\n",
    "                if name_tag and price_tag and image_tag:\n",
    "                    name = name_tag.text.strip()  # Remove leading/trailing whitespace\n",
    "                    price = price_tag.text.strip()\n",
    "                    image_url = image_tag['src']  # Extract image URL\n",
    "                    \n",
    "                    # Check if rating tag exists\n",
    "                    if rating_tag:\n",
    "                        rating = rating_tag.text.strip()\n",
    "                    else:\n",
    "                        rating = \"\"  # Set rating to an empty string if not available\n",
    "                    \n",
    "                    product_info.append({'Image': image_url, 'Name': name, 'Price': price, 'Rating': rating})\n",
    "            \n",
    "            # Append product info to the list\n",
    "            all_product_info.extend(product_info)\n",
    "            \n",
    "            # Check if there are more pages to scrape\n",
    "            next_button = soup.find('a', class_='_1LKTO3')\n",
    "            if not next_button or 'disabled' in next_button.get('class', []):\n",
    "                break  # No more pages to scrape\n",
    "            \n",
    "            # Move to the next page\n",
    "            page_number += 1\n",
    "        \n",
    "        return all_product_info\n",
    "    except Exception as e:\n",
    "        print(\"Error occurred:\", e)\n",
    "        return None\n"
   ]
  },
  {
   "cell_type": "markdown",
   "id": "5a8792ab",
   "metadata": {},
   "source": [
    "#### Get user Input and Display the result/Store data to csv"
   ]
  },
  {
   "cell_type": "code",
   "execution_count": 55,
   "id": "831cf5db",
   "metadata": {},
   "outputs": [
    {
     "name": "stdout",
     "output_type": "stream",
     "text": [
      "Enter the product you want to search for on Flipkart: washing machine\n",
      "Product details saved to product_details_washing machine.csv\n"
     ]
    }
   ],
   "source": [
    "# Take user input for the product search query\n",
    "query = input(\"Enter the product you want to search for on Flipkart: \")\n",
    "\n",
    "# Scrape Flipkart for the given query\n",
    "product_info = scrape_flipkart_search(query)\n",
    "\n",
    "if product_info:\n",
    "    # Store the results in a DataFrame\n",
    "    df = pd.DataFrame(product_info)\n",
    "    #print(\"Product details stored in DataFrame:\")\n",
    "    #print(df.to_string())\n",
    "    \n",
    "    # Save the DataFrame to a CSV file\n",
    "    csv_filename = f\"product_details_{query}.csv\"\n",
    "    df.to_csv(csv_filename, index=False)\n",
    "    print(f\"Product details saved to {csv_filename}\")\n",
    "else:\n",
    "    print(\"No product details retrieved from Flipkart.\")"
   ]
  },
  {
   "cell_type": "code",
   "execution_count": null,
   "id": "f4ec5f3f",
   "metadata": {},
   "outputs": [],
   "source": []
  }
 ],
 "metadata": {
  "kernelspec": {
   "display_name": "Python 3 (ipykernel)",
   "language": "python",
   "name": "python3"
  },
  "language_info": {
   "codemirror_mode": {
    "name": "ipython",
    "version": 3
   },
   "file_extension": ".py",
   "mimetype": "text/x-python",
   "name": "python",
   "nbconvert_exporter": "python",
   "pygments_lexer": "ipython3",
   "version": "3.11.5"
  }
 },
 "nbformat": 4,
 "nbformat_minor": 5
}
